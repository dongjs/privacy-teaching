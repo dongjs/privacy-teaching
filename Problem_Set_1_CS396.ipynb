{
 "cells": [
  {
   "cell_type": "code",
   "execution_count": null,
   "id": "25bbafec-d4e0-4138-a93b-8698fd933020",
   "metadata": {
    "tags": []
   },
   "outputs": [],
   "source": [
    "import numpy as np \n",
    "from scipy import stats\n",
    "import matplotlib.pyplot as plt"
   ]
  },
  {
   "cell_type": "markdown",
   "id": "823242a7-aa13-4065-a158-99800d609982",
   "metadata": {},
   "source": [
    "# Problem 1: Density, log likelihood ratio and ROC functions\n",
    "\n",
    "In this (fairly long) problem, you are asked to visualize and reason about the density, log likelihood ratio and ROC functions for different distributions. Generally speaking, we are interested in a mechanism that looks like $M(D)= f(D)+X$ where\n",
    "1. $f$ counts a subpopulation, so we will assume $f(D)=0$ and $f(D')=1$\n",
    "2. $X$ is the noise at our disposal. We will try different distributions including Laplace, Gaussian, [Gumbel](https://en.wikipedia.org/wiki/Gumbel_distribution), [student t](https://en.wikipedia.org/wiki/Student%27s_t-distribution) and [Cauchy](https://en.wikipedia.org/wiki/Cauchy_distribution). The latter three are new and don't worry if you don't understand their wiki page.\n",
    "\n",
    "We reason for the attacker. In his shoes, the problem is hypothesis testing\n",
    "$$H_0: X\\text{ vs } H_1: X+1$$\n",
    "\n",
    "The plan for each distribution is\n",
    "1. plot densities (pdf) for both $X$ and $X+1$, just to get a better idea\n",
    "2. find out what the likelihood raio tests look like\n",
    "3. compute the two types of errors of the likelihood ratio tests (if possible) and plot against each other\n",
    "\n",
    "In due course, there will be questions regarding the observations from the figures you produce. They are highlighted in <span style=\"color:red\">**bold red**</span>. Knowing how to write markdown and latex is helpful. Consult e.g. [this](https://towardsdatascience.com/write-markdown-latex-in-the-jupyter-notebook-10985edb91fd) or the [cheatsheet](https://www.edureka.co/blog/wp-content/uploads/2018/10/Jupyter_Notebook_CheatSheet_Edureka.pdf).\n",
    "\n",
    "I hope you will be able to produce a worksheet that you would like to keep, for the potential future moment that you need to remind yourself of some differential privacy basics.\n",
    "\n",
    "Let's start with Laplace"
   ]
  },
  {
   "cell_type": "markdown",
   "id": "d7b9d9fa",
   "metadata": {},
   "source": [
    "## 1.1 Laplace Mechanism"
   ]
  },
  {
   "cell_type": "markdown",
   "id": "3d5e811f",
   "metadata": {},
   "source": [
    "### 1.1.1 Laplace density"
   ]
  },
  {
   "cell_type": "code",
   "execution_count": null,
   "id": "349eec54",
   "metadata": {
    "scrolled": true,
    "tags": []
   },
   "outputs": [],
   "source": [
    "dist = stats.laplace\n",
    "x = np.linspace(-4,5, 1000)\n",
    "# plt.figure(figsize=(10,6))\n",
    "plt.plot(x, dist.pdf(x),label=\"Laplace at 0\")\n",
    "plt.plot(x, dist.pdf(x-1),label=\"Laplace at 1\")\n",
    "plt.legend()\n",
    "def func_eps_delta(eps,delta):\n",
    "    def f(x):\n",
    "        u = 1-delta-np.exp(eps)*x\n",
    "        v = np.exp(-eps)*(1-delta-x)\n",
    "        w = np.maximum(u,v)\n",
    "        return np.maximum(w,0)\n",
    "    return f    "
   ]
  },
  {
   "cell_type": "markdown",
   "id": "92466836",
   "metadata": {},
   "source": [
    "### 1.1.2 Laplace (log) likelihood ratio\n",
    "Graph for $p(x-a)/p(x)$\n",
    "\n",
    "What is the maximum and the minimum of the function? No need to answer but please change the code and verify the following statement\n",
    "\n",
    "> **$\\log p(x-a)/p(x)$ has maximum $a$ and minimum $-a$**\n",
    "\n",
    "Hint: the natural log in python is `np.log`"
   ]
  },
  {
   "cell_type": "code",
   "execution_count": null,
   "id": "d811be07",
   "metadata": {
    "tags": []
   },
   "outputs": [],
   "source": [
    "dist = stats.laplace\n",
    "a = 1\n",
    "x = np.linspace(-5,5,1000)\n",
    "plt.plot(x, dist.pdf(x-a)/dist.pdf(x),label=\"Normal pdf ratio\")"
   ]
  },
  {
   "cell_type": "markdown",
   "id": "6c754404",
   "metadata": {},
   "source": [
    "### 1.1.3 The two errors of the likelihood ratio tests\n",
    "The log likelihood ratio $L(x)=\\log \\frac{p(x-1)}{p(x)}$ is an increasing function, so the likelihood ratio tests $E_s=\\{x: \\log \\frac{p(x-1)}{p(x)}\\geqslant s\\}$ look like $[t,+\\infty)$\n",
    "\n",
    "Note that the the threshold $s$ and the left end of the rejection region (namely, $t$) need not be the same. In general, they are related by $s=L(t)$. When $t$ increases from $-\\infty$ to $\\infty$, $s$ runs over all possible thresholds."
   ]
  },
  {
   "cell_type": "markdown",
   "id": "a5197c44",
   "metadata": {},
   "source": [
    "Let $E_t = [t,\\infty)$ and $X=\\mathrm{Laplace}$. Then the testing problem is $H_0: X$ vs $H_1: X+1$\n",
    "\n",
    "Recall the cdf is defined as $F(x)=P[X\\leqslant x]$. You can call it e.g. by `stats.laplace.cdf`\n",
    "\n",
    "By definitions of false positive/negative,\n",
    "\n",
    "$\\alpha = P[X \\in E_t] = P[X>t] = 1-F(t)$\n",
    "\n",
    "$\\beta = P[X+1 \\not\\in E_t] = P[X+1\\leqslant t] = F(t-1)$\n",
    "\n",
    "Now we can let $t$ run from $-\\infty$ to $+\\infty$ (-10 to 10 works in this case) and plot $\\alpha$ and $\\beta$. Which is $\\alpha$ and which is $\\beta$?"
   ]
  },
  {
   "cell_type": "markdown",
   "id": "f55c8839-102b-43ef-9095-45ae63b492bd",
   "metadata": {
    "tags": []
   },
   "source": [
    "<span style=\"color:red\">**Your answer:**</span>"
   ]
  },
  {
   "cell_type": "code",
   "execution_count": null,
   "id": "284b5f35",
   "metadata": {
    "tags": []
   },
   "outputs": [],
   "source": [
    "dist = stats.laplace\n",
    "t=np.linspace(-10,10,1000)\n",
    "alpha = 1 - dist.cdf(t)\n",
    "beta = dist.cdf(t-1)\n",
    "plt.plot(t,alpha,t,beta)"
   ]
  },
  {
   "cell_type": "markdown",
   "id": "df3a040e-2f7d-41a3-bc75-75a7a02dc7dd",
   "metadata": {},
   "source": [
    "### 1.1.3 Plot $\\alpha$ against $\\beta$\n",
    "Compare it with the $(\\varepsilon,\\delta)$ piecewise linear curve"
   ]
  },
  {
   "cell_type": "code",
   "execution_count": null,
   "id": "8d59126c",
   "metadata": {
    "tags": []
   },
   "outputs": [],
   "source": [
    "plt.plot(alpha,beta)\n",
    "# f = func_eps_delta(eps=1,delta=0)\n",
    "# plt.plot(alpha, f(alpha)) ## Uncomment if you want to compare to eps-delta curve\n",
    "plt.axis('scaled')\n",
    "plt.xlim(0, 1)\n",
    "plt.ylim(0, 1)"
   ]
  },
  {
   "cell_type": "markdown",
   "id": "04edbca7",
   "metadata": {},
   "source": [
    "**Now go back and do \"Laplace at 0\" vs \"Laplace at 2\"**\n",
    "\n",
    "What do you observe?\n",
    "\n",
    "<span style=\"color:red\">**Your answer:**</span>\n",
    "\n",
    "(Optional, with extra credit) Come up with one or more conjectures and prove it mathematically.\n",
    "\n",
    "Markdown is friendly with math so you can write it here. You can also submit in different forms e.g. write it down and take a picture and send to the instructor.\n",
    "\n",
    "<span style=\"color:red\">**Your answer:**</span>"
   ]
  },
  {
   "cell_type": "markdown",
   "id": "b4b06a5b-7ac8-4f3a-b90e-cd493bc40d47",
   "metadata": {},
   "source": [
    "## 1.2 Gaussian mechanism"
   ]
  },
  {
   "cell_type": "markdown",
   "id": "33949c63",
   "metadata": {},
   "source": [
    "### 1.2.1 Normal density"
   ]
  },
  {
   "cell_type": "code",
   "execution_count": null,
   "id": "e1c1cf2d",
   "metadata": {},
   "outputs": [],
   "source": [
    "# This code snippet plots normal densities\n",
    "# Write your code below\n",
    "# Assume the locations are at 0 and 1 respectively. "
   ]
  },
  {
   "cell_type": "markdown",
   "id": "5317693a",
   "metadata": {},
   "source": [
    "### 1.2.2 Normal log likelihood ratio\n",
    "- What is the function?\n",
    "\n",
    "    <span style=\"color:red\">**Your answer:**</span>\n",
    "- How does the function depend on the locations of the Normals?\n",
    "\n",
    "    <span style=\"color:red\">**Your answer:**</span>"
   ]
  },
  {
   "cell_type": "code",
   "execution_count": null,
   "id": "c310a200",
   "metadata": {},
   "outputs": [],
   "source": [
    "# This code snippet plot normal log likelihood ratio\n",
    "# Write your code below\n",
    "# You may have to do something beyond simple copy-pasting to answer the second question above"
   ]
  },
  {
   "cell_type": "markdown",
   "id": "bb91e688-7a05-4e63-8e34-c7b6e6a81e84",
   "metadata": {},
   "source": [
    "### 1.2.3 Plot $\\alpha$ against $\\beta$\n",
    "and compare it with the formula we derived in-class: $\\beta = \\Phi(-\\Phi^{-1}(\\alpha)-1)$.\n",
    "\n",
    "Also compare it with the $(\\varepsilon,\\delta)$ piecewise linear function, using the formula we derived in-class:\n",
    "$$\\delta(\\varepsilon)= \\Phi\\Big( - \\sigma\\varepsilon  +\\frac{1}{2\\sigma} \\Big)- \\mathrm{e}^{\\varepsilon}\\Phi\\Big(-  \\sigma\\varepsilon  - \\frac{1}{2\\sigma} \\Big)$$"
   ]
  },
  {
   "cell_type": "code",
   "execution_count": null,
   "id": "34627bde-7ac1-4fdb-bd37-81df98d8a3bc",
   "metadata": {},
   "outputs": [],
   "source": [
    "# This code snippet plot alpha against beta for Gaussian mechanism in TWO WAYS. It also compares with the epsilon-delta piecewise linear curve\n",
    "# Write your code below"
   ]
  },
  {
   "cell_type": "markdown",
   "id": "ec50948f",
   "metadata": {},
   "source": [
    "## 1.3 Try out different distributions\n",
    "Try the above things (density, log likelihood ratio and $\\alpha$ against $\\beta$) for other distributions, including `stats.gumbel_r`, `stats.t(df=1)` and `stats.cauchy`.\n",
    "\n",
    "For some of them, plotting $\\alpha$ against $\\beta$ is harder than the others. You don't have to do it for them (because I don't know how to do it either), but please identify them and briefly explain why. I left three snippets below as your common playground for all three of these distributions. Feel free to add more of these and leave some figures there if you think it's helpful for your answer. But please write clearly, as if you are writing for your future self.\n",
    "\n",
    "PS: Some statisticians may have worked out the $\\alpha$ against $\\beta$ thing that we are skipping. It could make a final project if you can find the related papers. You can also try to work it out yourself, but I don't think it's a very helpful thing for you to do.\n",
    "\n",
    "<span style=\"color:red\">**Your answer:**</span>"
   ]
  },
  {
   "cell_type": "markdown",
   "id": "8b9a79a6-95fa-47db-b7b0-80a33841513a",
   "metadata": {
    "tags": []
   },
   "source": [
    "(Optional, with extra credit) Write down your other findings below.\n",
    "\n",
    "<span style=\"color:red\">**Your answer:**</span>"
   ]
  },
  {
   "cell_type": "code",
   "execution_count": null,
   "id": "d137c0e8-480c-418a-b3b8-e4e4082a149f",
   "metadata": {},
   "outputs": [],
   "source": [
    "# density"
   ]
  },
  {
   "cell_type": "code",
   "execution_count": null,
   "id": "86782bed-a26d-4469-bf64-252877d8aed4",
   "metadata": {},
   "outputs": [],
   "source": [
    "# log likelihood ratio"
   ]
  },
  {
   "cell_type": "code",
   "execution_count": null,
   "id": "1728f7d3-70d3-435e-8bd1-b373d71f4f9f",
   "metadata": {},
   "outputs": [],
   "source": [
    "# alpha against beta"
   ]
  },
  {
   "cell_type": "markdown",
   "id": "8777714c-774d-495b-b99b-b8fdc45388df",
   "metadata": {},
   "source": [
    "# Problem 2\n",
    "\n",
    "Consider the following 0-1 knapsack problem:\n",
    "\n",
    "| Item | weight    | value |\n",
    "|--- |----------| ------|\n",
    "| A | 3kg | 27 |\n",
    "| B | 3kg       |  24 |\n",
    "| C | 4kg  | 49 |\n",
    "\n",
    "Your backpack can carry 6kg.\n",
    "\n",
    "1. Which item(s) should you take to maximize the value? What algorithm do you use for this kind of problem?\n",
    "2. Using greedy algorithm, what do you end up taking?\n",
    "3. Construct a hypothesis testing problem (together with a designated false positive level), for which likelihood ratio test (as introduced in class) is not optimal.\n",
    "4. Neyman and Pearson are not wrong, because simple hypothesis testing is equivalent not to a 0-1 knapsack problem but a fractional knapsack. For the above hypothesis testing problem that you construct, what is the actual optimal test?  \n",
    "    Hint: It necessarily saturates the designated false positive level, just like a solution to fractional knapsack always packs the bag full.\n",
    "\n",
    "Remark: A \"fractional\" likelihood ratio test has a natural randomized interepretation -- we are dealing with probability in the first place!"
   ]
  },
  {
   "cell_type": "markdown",
   "id": "f4292a4a-acc4-44c5-b0ca-5a3e4ec76277",
   "metadata": {},
   "source": [
    "<span style=\"color:red\">**Your answer:**</span>\n",
    "1.  \n",
    "2.  \n",
    "3.  \n",
    "4.  "
   ]
  }
 ],
 "metadata": {
  "kernelspec": {
   "display_name": "Python 3 (ipykernel)",
   "language": "python",
   "name": "python3"
  },
  "language_info": {
   "codemirror_mode": {
    "name": "ipython",
    "version": 3
   },
   "file_extension": ".py",
   "mimetype": "text/x-python",
   "name": "python",
   "nbconvert_exporter": "python",
   "pygments_lexer": "ipython3",
   "version": "3.8.10"
  }
 },
 "nbformat": 4,
 "nbformat_minor": 5
}
